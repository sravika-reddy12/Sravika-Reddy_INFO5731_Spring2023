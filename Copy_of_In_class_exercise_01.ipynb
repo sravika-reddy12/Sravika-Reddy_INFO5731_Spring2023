{
  "nbformat": 4,
  "nbformat_minor": 0,
  "metadata": {
    "colab": {
      "provenance": [],
      "authorship_tag": "ABX9TyMwUsFHP1y+PXocbDuQ9D65",
      "include_colab_link": true
    },
    "kernelspec": {
      "name": "python3",
      "display_name": "Python 3"
    },
    "language_info": {
      "name": "python"
    }
  },
  "cells": [
    {
      "cell_type": "markdown",
      "metadata": {
        "id": "view-in-github",
        "colab_type": "text"
      },
      "source": [
        "<a href=\"https://colab.research.google.com/github/sravika-reddy12/Sravika-Reddy_INFO5731_Spring2023/blob/main/Copy_of_In_class_exercise_01.ipynb\" target=\"_parent\"><img src=\"https://colab.research.google.com/assets/colab-badge.svg\" alt=\"Open In Colab\"/></a>"
      ]
    },
    {
      "cell_type": "code",
      "execution_count": null,
      "metadata": {
        "id": "cgipvWt0t_Zr"
      },
      "outputs": [],
      "source": []
    },
    {
      "cell_type": "markdown",
      "source": [
        "1) Write a Python program to calculate the length of a string. (4 points)\n",
        "\n"
      ],
      "metadata": {
        "id": "NZWq_IxdxB9_"
      }
    },
    {
      "cell_type": "code",
      "source": [
        "# Enter your response here.\n",
        "stri = \"Sravika\"\n",
        "count = 0\n",
        "for i in stri:   #Using For loop\n",
        "    count = count + 1\n",
        "print(count)     # print statement"
      ],
      "metadata": {
        "colab": {
          "base_uri": "https://localhost:8080/"
        },
        "id": "jxRIAlssxH02",
        "outputId": "ba9db39d-1f30-4348-cca3-c1e39862cce1"
      },
      "execution_count": null,
      "outputs": [
        {
          "output_type": "stream",
          "name": "stdout",
          "text": [
            "7\n"
          ]
        }
      ]
    },
    {
      "cell_type": "code",
      "source": [],
      "metadata": {
        "id": "ye_xQjOYxOB6"
      },
      "execution_count": null,
      "outputs": []
    },
    {
      "cell_type": "markdown",
      "source": [
        "(2) Write a Python program to count the number of characters in a string. (4 points)\n",
        "\n",
        "Sample String : 'google.com‘,\n",
        "\n",
        "Expected Result : {'o': 3, 'g': 2, '.': 1, 'e': 1, 'l': 1, 'm': 1, 'c': 1}\n"
      ],
      "metadata": {
        "id": "_hkHZiR7x6Jb"
      }
    },
    {
      "cell_type": "code",
      "source": [
        "# Enter your response here.\n",
        "strin = 'google.com'\n",
        "char_count = {}\n",
        "  \n",
        "for i in strin: # Using for loop\n",
        "    if i in char_count:  #  Using if else statement\n",
        "        char_count[i] += 1\n",
        "    else:\n",
        "        char_count[i] = 1\n",
        "print(str(char_count))    # print statement"
      ],
      "metadata": {
        "colab": {
          "base_uri": "https://localhost:8080/"
        },
        "id": "7rhKpMJrx8sw",
        "outputId": "3fe0fa10-f449-4bd9-88e4-7b492bf2a4d3"
      },
      "execution_count": null,
      "outputs": [
        {
          "output_type": "stream",
          "name": "stdout",
          "text": [
            "{'g': 2, 'o': 3, 'l': 1, 'e': 1, '.': 1, 'c': 1, 'm': 1}\n"
          ]
        }
      ]
    },
    {
      "cell_type": "code",
      "source": [],
      "metadata": {
        "id": "UoLm0pFOuklV"
      },
      "execution_count": null,
      "outputs": []
    },
    {
      "cell_type": "markdown",
      "source": [
        "3) Write a Python program to sum all the items in a list. (4 points)"
      ],
      "metadata": {
        "id": "J6eUqrJHy1MT"
      }
    },
    {
      "cell_type": "code",
      "source": [
        "# Enter your response here.\n",
        "lst = [5,9,1,6] #List\n",
        "tot = 0\n",
        "for i in lst:   #Using For loop\n",
        "    tot = tot + i\n",
        "print(tot)      #print statement"
      ],
      "metadata": {
        "colab": {
          "base_uri": "https://localhost:8080/"
        },
        "id": "cFx0NQoiy6IJ",
        "outputId": "b02febde-42d6-4622-f830-0b7a10fe8a33"
      },
      "execution_count": null,
      "outputs": [
        {
          "output_type": "stream",
          "name": "stdout",
          "text": [
            "21\n"
          ]
        }
      ]
    },
    {
      "cell_type": "markdown",
      "source": [
        "(4) Write a Python program to get a string from a given string where all occurrences of its first char have been changed to '$', except the first char itself. (4 points)\n",
        "\n",
        "Sample String : 'restart‘,\n",
        "\n",
        "Expected Result : 'resta$t'"
      ],
      "metadata": {
        "id": "hOCYznjjzo1G"
      }
    },
    {
      "cell_type": "code",
      "source": [
        "# Enter your response here.\n",
        "stri = \"restart\"\n",
        "stri1 = \"\"\n",
        "a = stri[0]\n",
        "for i in range(0,len(stri)): #Using for loop\n",
        "    if stri[i]==a:           #Using ifelsestatement\n",
        "        stri1 += '$'\n",
        "    else:\n",
        "        stri1 += stri[i]\n",
        "stri1 = a + stri1[1:]\n",
        "print(stri1)                 #print statement"
      ],
      "metadata": {
        "colab": {
          "base_uri": "https://localhost:8080/"
        },
        "id": "v_ZyQaQlz1Sp",
        "outputId": "83b95897-f04e-4bfc-d2a8-1740270fa56e"
      },
      "execution_count": null,
      "outputs": [
        {
          "output_type": "stream",
          "name": "stdout",
          "text": [
            "resta$t\n"
          ]
        }
      ]
    },
    {
      "cell_type": "code",
      "source": [],
      "metadata": {
        "id": "pHm13nxbztgZ"
      },
      "execution_count": null,
      "outputs": []
    },
    {
      "cell_type": "markdown",
      "source": [
        "(5) Write a program with python which could accept two parameter a and b to calculate and output the result of S, where\n",
        "  S=3.14*(1+a/b)**3\n",
        "\n",
        " (4 points)"
      ],
      "metadata": {
        "id": "bzyHJQ5d0gFV"
      }
    },
    {
      "cell_type": "code",
      "source": [
        "# Enter your response here.\n",
        "a = int(input(\"Enter value of a \"))\n",
        "b = int(input(\"Enter value of b \"))\n",
        "S = 3.14 * (1 + a/b)**3\n",
        "print(S)             # print statement"
      ],
      "metadata": {
        "colab": {
          "base_uri": "https://localhost:8080/"
        },
        "id": "tuIUJ27n10lM",
        "outputId": "e407df5c-004f-49ed-b530-b39d60a09db6"
      },
      "execution_count": null,
      "outputs": [
        {
          "output_type": "stream",
          "name": "stdout",
          "text": [
            "Enter value of a 24\n",
            "Enter value of b 26\n",
            "22.331588529813384\n"
          ]
        }
      ]
    },
    {
      "cell_type": "code",
      "source": [],
      "metadata": {
        "id": "LDdIuaiN0gzz"
      },
      "execution_count": null,
      "outputs": []
    },
    {
      "cell_type": "markdown",
      "source": [
        "(6) Write a Python program to concatenate following dictionaries to create a new one. (4 points)\n",
        "\n",
        "Sample Dictionary : dic1={1:10, 2:20}, dic2={3:30, 4:40}, dic3={5:50,6:60},\n",
        "\n",
        "Expected Result : {1: 10, 2: 20, 3: 30, 4: 40, 5: 50, 6: 60}"
      ],
      "metadata": {
        "id": "dOO5mn1_2qgM"
      }
    },
    {
      "cell_type": "code",
      "source": [
        "# Enter your response here.\n",
        "dic1 = {1:10,2:20}\n",
        "dic2 = {3:30,4:40}\n",
        "dic3 = {5:50,6:60}\n",
        "dic1.update(dic2)  # updating dict 2 in dic 1\n",
        "dic1.update(dic3)  # updating dict 3 in dic 1\n",
        "print(dic1)        # print statement"
      ],
      "metadata": {
        "colab": {
          "base_uri": "https://localhost:8080/"
        },
        "id": "6POa-Nkz2yAL",
        "outputId": "3eb18e37-df88-464b-fa01-87497c84aae4"
      },
      "execution_count": null,
      "outputs": [
        {
          "output_type": "stream",
          "name": "stdout",
          "text": [
            "{1: 10, 2: 20, 3: 30, 4: 40, 5: 50, 6: 60}\n"
          ]
        }
      ]
    },
    {
      "cell_type": "markdown",
      "source": [],
      "metadata": {
        "id": "qGplrJNX3nKU"
      }
    }
  ]
}