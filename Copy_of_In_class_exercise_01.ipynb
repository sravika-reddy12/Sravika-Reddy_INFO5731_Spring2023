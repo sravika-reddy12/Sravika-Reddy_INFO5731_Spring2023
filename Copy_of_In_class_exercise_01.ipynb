{
  "nbformat": 4,
  "nbformat_minor": 0,
  "metadata": {
    "colab": {
      "provenance": [],
      "mount_file_id": "16XdttBcIW0NwlV4xoZwbyOw5uADOAbQn",
      "authorship_tag": "ABX9TyPcRJDtC2d4HJgYuLa9/oYr",
      "include_colab_link": true
    },
    "kernelspec": {
      "name": "python3",
      "display_name": "Python 3"
    },
    "language_info": {
      "name": "python"
    }
  },
  "cells": [
    {
      "cell_type": "markdown",
      "metadata": {
        "id": "view-in-github",
        "colab_type": "text"
      },
      "source": [
        "<a href=\"https://colab.research.google.com/github/sravika-reddy12/Sravika-Reddy_INFO5731_Spring2023/blob/main/Copy_of_In_class_exercise_01.ipynb\" target=\"_parent\"><img src=\"https://colab.research.google.com/assets/colab-badge.svg\" alt=\"Open In Colab\"/></a>"
      ]
    },
    {
      "cell_type": "code",
      "execution_count": null,
      "metadata": {
        "id": "cgipvWt0t_Zr"
      },
      "outputs": [],
      "source": []
    },
    {
      "cell_type": "markdown",
      "source": [
        "# **The first In-class-exercise (01/24/2023, 40 points in total)**"
      ],
      "metadata": {
        "id": "VimVCDmBlO2N"
      }
    },
    {
      "cell_type": "code",
      "source": [],
      "metadata": {
        "id": "7ara69xrlWnP"
      },
      "execution_count": null,
      "outputs": []
    },
    {
      "cell_type": "markdown",
      "source": [
        "1) Write a Python program to calculate the length of a string. (4 points)\n",
        "\n"
      ],
      "metadata": {
        "id": "NZWq_IxdxB9_"
      }
    },
    {
      "cell_type": "code",
      "source": [
        "# Enter your response here.\n",
        "stri = \"Sravika\"\n",
        "x = 0\n",
        "for i in stri:   #Using For loop\n",
        "    x = x + 1\n",
        "print(x)     # print statement"
      ],
      "metadata": {
        "colab": {
          "base_uri": "https://localhost:8080/"
        },
        "id": "jxRIAlssxH02",
        "outputId": "bd25b8db-2651-42bc-fc00-1da553aff5e5"
      },
      "execution_count": null,
      "outputs": [
        {
          "output_type": "stream",
          "name": "stdout",
          "text": [
            "7\n"
          ]
        }
      ]
    },
    {
      "cell_type": "code",
      "source": [],
      "metadata": {
        "id": "ye_xQjOYxOB6"
      },
      "execution_count": null,
      "outputs": []
    },
    {
      "cell_type": "markdown",
      "source": [
        "(2) Write a Python program to count the number of characters in a string. (4 points)\n",
        "\n",
        "Sample String : 'google.com‘,\n",
        "\n",
        "Expected Result : {'o': 3, 'g': 2, '.': 1, 'e': 1, 'l': 1, 'm': 1, 'c': 1}\n"
      ],
      "metadata": {
        "id": "_hkHZiR7x6Jb"
      }
    },
    {
      "cell_type": "code",
      "source": [
        "# Enter your response here.\n",
        "strin = 'google.com'\n",
        "c_count = {}\n",
        "  \n",
        "for i in strin: # Using for loop\n",
        "    if i in c_count:  #  Using if else statement\n",
        "        c_count[i] += 1\n",
        "    else:\n",
        "        c_count[i] = 1\n",
        "print(str(c_count))    # print statement"
      ],
      "metadata": {
        "colab": {
          "base_uri": "https://localhost:8080/"
        },
        "id": "7rhKpMJrx8sw",
        "outputId": "959204ac-3c56-498d-f7cb-d16d9395e33b"
      },
      "execution_count": null,
      "outputs": [
        {
          "output_type": "stream",
          "name": "stdout",
          "text": [
            "{'g': 2, 'o': 3, 'l': 1, 'e': 1, '.': 1, 'c': 1, 'm': 1}\n"
          ]
        }
      ]
    },
    {
      "cell_type": "code",
      "source": [],
      "metadata": {
        "id": "UoLm0pFOuklV"
      },
      "execution_count": null,
      "outputs": []
    },
    {
      "cell_type": "markdown",
      "source": [
        "3) Write a Python program to sum all the items in a list. (4 points)"
      ],
      "metadata": {
        "id": "J6eUqrJHy1MT"
      }
    },
    {
      "cell_type": "code",
      "source": [
        "# Enter your response here.\n",
        "lst = [5,9,1,6] #List\n",
        "Sp = 0\n",
        "for a in lst:   #Using For loop\n",
        "    Sp = Sp + a\n",
        "print(Sp)      #print statement"
      ],
      "metadata": {
        "colab": {
          "base_uri": "https://localhost:8080/"
        },
        "id": "cFx0NQoiy6IJ",
        "outputId": "66442cb0-b991-42dc-fedd-4c89fee414c1"
      },
      "execution_count": null,
      "outputs": [
        {
          "output_type": "stream",
          "name": "stdout",
          "text": [
            "21\n"
          ]
        }
      ]
    },
    {
      "cell_type": "markdown",
      "source": [
        "(4) Write a Python program to get a string from a given string where all occurrences of its first char have been changed to '$', except the first char itself. (4 points)\n",
        "\n",
        "Sample String : 'restart‘,\n",
        "\n",
        "Expected Result : 'resta$t'"
      ],
      "metadata": {
        "id": "hOCYznjjzo1G"
      }
    },
    {
      "cell_type": "code",
      "source": [
        "# Enter your response here.\n",
        "stri = \"restart\"\n",
        "stri1 = \"\"\n",
        "x = stri[0]\n",
        "for i in range(0,len(stri)): #Using for loop\n",
        "    if stri[i]==x:           #Using ifelsestatement\n",
        "        stri1 += '$'\n",
        "    else:\n",
        "        stri1 += stri[i]\n",
        "stri1 = x + stri1[1:]\n",
        "print(stri1)                 #print statement"
      ],
      "metadata": {
        "colab": {
          "base_uri": "https://localhost:8080/"
        },
        "id": "v_ZyQaQlz1Sp",
        "outputId": "9ca454ac-fbd0-4a9d-fe2d-94c4bd89c10e"
      },
      "execution_count": null,
      "outputs": [
        {
          "output_type": "stream",
          "name": "stdout",
          "text": [
            "resta$t\n"
          ]
        }
      ]
    },
    {
      "cell_type": "code",
      "source": [],
      "metadata": {
        "id": "pHm13nxbztgZ"
      },
      "execution_count": null,
      "outputs": []
    },
    {
      "cell_type": "markdown",
      "source": [
        "(5) Write a program with python which could accept two parameter a and b to calculate and output the result of S, where\n",
        "  S=3.14*(1+a/b)^3\n",
        "\n",
        " (4 points)"
      ],
      "metadata": {
        "id": "bzyHJQ5d0gFV"
      }
    },
    {
      "cell_type": "code",
      "source": [
        "# Enter your response here.\n",
        "x = int(input(\"Enter value of x \"))\n",
        "y = int(input(\"Enter value of y \"))\n",
        "Z = 3.14 * (1 + x/y)**3\n",
        "print(Z)             # print statement"
      ],
      "metadata": {
        "colab": {
          "base_uri": "https://localhost:8080/"
        },
        "id": "tuIUJ27n10lM",
        "outputId": "4a342d1a-f7bf-4cdc-eae5-0aeafc2a4cb4"
      },
      "execution_count": null,
      "outputs": [
        {
          "output_type": "stream",
          "name": "stdout",
          "text": [
            "Enter value of x 6\n",
            "Enter value of y 5\n",
            "33.43472000000001\n"
          ]
        }
      ]
    },
    {
      "cell_type": "code",
      "source": [],
      "metadata": {
        "id": "LDdIuaiN0gzz"
      },
      "execution_count": null,
      "outputs": []
    },
    {
      "cell_type": "markdown",
      "source": [
        "(6) Write a Python program to concatenate following dictionaries to create a new one. (4 points)\n",
        "\n",
        "Sample Dictionary : dic1={1:10, 2:20}, dic2={3:30, 4:40}, dic3={5:50,6:60},\n",
        "\n",
        "Expected Result : {1: 10, 2: 20, 3: 30, 4: 40, 5: 50, 6: 60}"
      ],
      "metadata": {
        "id": "dOO5mn1_2qgM"
      }
    },
    {
      "cell_type": "code",
      "source": [
        "# Enter your response here.\n",
        "dic1 = {1:10,2:20}\n",
        "dic2 = {3:30,4:40}\n",
        "dic3 = {5:50,6:60}\n",
        "dic1.update(dic2)  # updating dict 2 in dic 1\n",
        "dic1.update(dic3)  # updating dict 3 in dic 1\n",
        "print(dic1)        # print statement"
      ],
      "metadata": {
        "colab": {
          "base_uri": "https://localhost:8080/"
        },
        "id": "6POa-Nkz2yAL",
        "outputId": "405b6a6c-8ad1-4dca-ce6f-fd3bb035a37a"
      },
      "execution_count": null,
      "outputs": [
        {
          "output_type": "stream",
          "name": "stdout",
          "text": [
            "{1: 10, 2: 20, 3: 30, 4: 40, 5: 50, 6: 60}\n"
          ]
        }
      ]
    },
    {
      "cell_type": "markdown",
      "source": [
        "7) Write a Python program to check whether an element exists within a tuple. (4 points)\n"
      ],
      "metadata": {
        "id": "BfUdbQ0Gfq-q"
      }
    },
    {
      "cell_type": "code",
      "source": [
        "# Enter your response here.\n",
        "X = tuple(map(int,input(\"Enter the elements inside a tuple : \").split()))\n",
        "Y = int(input(\"Enter the element to be searched inside a tuple \"))\n",
        "for a in X:                     # for loop\n",
        "    if a == Y:                  # ifelse statement\n",
        "        print(\"Element Exists\")\n",
        "        break\n",
        "else:\n",
        "    print(\"Element doesn't exists\")  # print statement"
      ],
      "metadata": {
        "colab": {
          "base_uri": "https://localhost:8080/"
        },
        "id": "KUHZQXBifsih",
        "outputId": "00c779b0-4213-4d67-aae3-92a15d60df13"
      },
      "execution_count": null,
      "outputs": [
        {
          "output_type": "stream",
          "name": "stdout",
          "text": [
            "Enter the elements inside a tuple : 4\n",
            "Enter the element to be searched inside a tuple 4\n",
            "Element Exists\n"
          ]
        }
      ]
    },
    {
      "cell_type": "markdown",
      "source": [
        "(8) Write a Python program to find maximum and the minimum value in a set. (4 points)"
      ],
      "metadata": {
        "id": "rkUo6bMQgrk4"
      }
    },
    {
      "cell_type": "code",
      "source": [
        "# Enter your response here.\n",
        "Sravika = set(map(int,input(\"Enter the elements inside a list : \").split()))\n",
        "# min = Sravika[0]\n",
        "# max = Sravika[0]\n",
        "# for i in Sravika[1:]:\n",
        "        # if i < min: \n",
        "            # min = i \n",
        "        # else: \n",
        "           # if i > max: max = i\n",
        " \n",
        "print(min(Sravika), max(Sravika)) #print statement\n",
        "\n"
      ],
      "metadata": {
        "colab": {
          "base_uri": "https://localhost:8080/"
        },
        "id": "qb2-Stt5gw-D",
        "outputId": "84c12a7a-5e5d-4ed2-f722-be2e8649d2ae"
      },
      "execution_count": null,
      "outputs": [
        {
          "output_type": "stream",
          "name": "stdout",
          "text": [
            "Enter the elements inside a list : 45 3 4 7 786\n",
            "3 786\n"
          ]
        }
      ]
    },
    {
      "cell_type": "markdown",
      "source": [
        "(9) Write a Python program to randomly divide the students in this class into six groups for term projects, each group should have at least 4 students but no more than 6 students (including 6). Here is the students list: (4 points)\n",
        "\n",
        "studnet_list = ['ja0964','sa1198','sb1357','vb0218','sc1229','kg0569','kg0470','sg1297','bg0320','fh0141','jl1252','sk1386', 'ak0956','sk1390','sk1458','sk1313','ak0934','vm0377','nm0618','sm1640','sm1907','gn0108','pr0353','dr0609','ms1500','aos0040','ds0814', 'av0659','nv0234','hy0232']"
      ],
      "metadata": {
        "id": "oGHbYCvei2jf"
      }
    },
    {
      "cell_type": "code",
      "source": [
        "#Enter your response here.\n",
        "import random\n",
        "S_list = ['ja0964','sa1198','sb1357','vb0218','sc1229','kg0569','kg0470','sg1297','bg0320','fh0141','jl1252','sk1386', 'ak0956','sk1390','sk1458','sk1313','ak0934','vm0377','nm0618','sm1640','sm1907','gn0108','pr0353','dr0609','ms1500','aos0040','ds0814', 'av0659','nv0234','hy0232']\n",
        "for i in range(0,6):    #for loop\n",
        "    print(random.sample(S_list, k = 5)) #print statement"
      ],
      "metadata": {
        "colab": {
          "base_uri": "https://localhost:8080/"
        },
        "id": "yR6sfcyzi3rz",
        "outputId": "3f1fe333-0ba0-48e2-ef79-f89291225984"
      },
      "execution_count": null,
      "outputs": [
        {
          "output_type": "stream",
          "name": "stdout",
          "text": [
            "['ak0934', 'fh0141', 'dr0609', 'bg0320', 'ja0964']\n",
            "['gn0108', 'nv0234', 'pr0353', 'kg0569', 'sc1229']\n",
            "['vm0377', 'fh0141', 'ak0956', 'sa1198', 'hy0232']\n",
            "['sk1458', 'sk1390', 'kg0470', 'ak0934', 'hy0232']\n",
            "['sk1458', 'ms1500', 'sa1198', 'aos0040', 'nm0618']\n",
            "['gn0108', 'vm0377', 'sb1357', 'ms1500', 'sg1297']\n"
          ]
        }
      ]
    },
    {
      "cell_type": "markdown",
      "source": [
        "(10) Write a Python program to find the duplicate elements in a given array of integers. Return -1 If there are no such elements. (4 points)"
      ],
      "metadata": {
        "id": "-wwQRVAtjYaj"
      }
    },
    {
      "cell_type": "code",
      "source": [
        "# Enter your response here.\n",
        "Sravika = list(map(int,input(\"Enter the elements inside a list : \").split()))\n",
        "Reddy = set()\n",
        "for a in range(len(Sravika)):  #for loop\n",
        "\n",
        "    if Sravika[a] in Reddy:    # ifelse statement\n",
        "         print(Sravika[a])     #print statement\n",
        "    else:\n",
        "        Reddy.add(Sravika[a])\n",
        "if(len(Sravika)==len(Reddy)):  #if statement\n",
        "    print(\"-1\")                #print statement"
      ],
      "metadata": {
        "colab": {
          "base_uri": "https://localhost:8080/"
        },
        "id": "DN1b_HfWjhta",
        "outputId": "4f76d8f5-2388-458c-9d26-ac623dd2e95c"
      },
      "execution_count": null,
      "outputs": [
        {
          "output_type": "stream",
          "name": "stdout",
          "text": [
            "Enter the elements inside a list : 33 44 44 33 55 55\n",
            "44\n",
            "33\n",
            "55\n"
          ]
        }
      ]
    },
    {
      "cell_type": "markdown",
      "source": [
        "(11) Write a Python program to select all the Sundays of a specified year. (4 extra points)"
      ],
      "metadata": {
        "id": "iWnBs7pxk0Px"
      }
    },
    {
      "cell_type": "code",
      "source": [
        "from datetime import date, timedelta\n",
        "\n",
        "def all_sundays(year):\n",
        "# January 1st of the given year\n",
        "       d = date(year, 1, 1)\n",
        "# First Sunday of the given year       \n",
        "       d += timedelta(days = 6 - d.weekday())  \n",
        "       while d.year == year:\n",
        "          yield d\n",
        "          d += timedelta(days = 7)\n",
        "          \n",
        "for s in all_sundays(2023):\n",
        "   print(s)"
      ],
      "metadata": {
        "colab": {
          "base_uri": "https://localhost:8080/"
        },
        "id": "y7WKhH9Jk4oF",
        "outputId": "05a7e9f5-fdaa-432b-c708-06641867cadd"
      },
      "execution_count": null,
      "outputs": [
        {
          "output_type": "stream",
          "name": "stdout",
          "text": [
            "2023-01-01\n",
            "2023-01-08\n",
            "2023-01-15\n",
            "2023-01-22\n",
            "2023-01-29\n",
            "2023-02-05\n",
            "2023-02-12\n",
            "2023-02-19\n",
            "2023-02-26\n",
            "2023-03-05\n",
            "2023-03-12\n",
            "2023-03-19\n",
            "2023-03-26\n",
            "2023-04-02\n",
            "2023-04-09\n",
            "2023-04-16\n",
            "2023-04-23\n",
            "2023-04-30\n",
            "2023-05-07\n",
            "2023-05-14\n",
            "2023-05-21\n",
            "2023-05-28\n",
            "2023-06-04\n",
            "2023-06-11\n",
            "2023-06-18\n",
            "2023-06-25\n",
            "2023-07-02\n",
            "2023-07-09\n",
            "2023-07-16\n",
            "2023-07-23\n",
            "2023-07-30\n",
            "2023-08-06\n",
            "2023-08-13\n",
            "2023-08-20\n",
            "2023-08-27\n",
            "2023-09-03\n",
            "2023-09-10\n",
            "2023-09-17\n",
            "2023-09-24\n",
            "2023-10-01\n",
            "2023-10-08\n",
            "2023-10-15\n",
            "2023-10-22\n",
            "2023-10-29\n",
            "2023-11-05\n",
            "2023-11-12\n",
            "2023-11-19\n",
            "2023-11-26\n",
            "2023-12-03\n",
            "2023-12-10\n",
            "2023-12-17\n",
            "2023-12-24\n",
            "2023-12-31\n"
          ]
        }
      ]
    }
  ]
}